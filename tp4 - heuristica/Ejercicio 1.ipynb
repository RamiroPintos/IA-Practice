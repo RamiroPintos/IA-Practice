{
 "cells": [
  {
   "cell_type": "markdown",
   "metadata": {},
   "source": [
    "# El problema del viajante\n",
    "\n",
    "Dada una lista de ciudades y las distancias entre cada par de ciudades determinar la ruta más pequeña posible que visite cada ciudad y regrese a la ciudad de origen.\n",
    "\n",
    "El problema en esta situación consiste en ser un problema de combinatoria donde el costo computacional de evaluar todas las combinaciones posibles aumenta mientras se incrementa la cantidad de ciudades.\n",
    "\n",
    "Para obtener lo datos para la resolución y la heurística puede utilizarse la herramienta Google Maps."
   ]
  },
  {
   "cell_type": "markdown",
   "metadata": {},
   "source": [
    "# Primera parte\n",
    "\n",
    "Resolver el problema utilizando un método de fuerza bruta para los siguientes destinos:\n",
    "\n",
    "- San Rafael\n",
    "- El sosneado\n",
    "- Jaime Prats\n",
    "- Gral. Alvear\n",
    "\n",
    "#### San rafael a El Sosneado      => 137 km\n",
    "#### San rafael a Jaime Prats       => 70,1km\n",
    "#### San rafael a Gral. Alvear       => 84,8 km\n",
    "#### El Sosneado a Jaime Prats  => 214 km\n",
    "#### Jaime Prats a Gral. Alvear\"  =>  15 km\n",
    "\n",
    "Mostrar el costo de todas las rutas"
   ]
  },
  {
   "cell_type": "code",
   "execution_count": 17,
   "metadata": {
    "pycharm": {
     "name": "#%%\n"
    }
   },
   "outputs": [
    {
     "name": "stdout",
     "output_type": "stream",
     "text": [
      "436.8 sr-ga-jp-es-sr\n"
     ]
    }
   ],
   "source": [
    "import itertools\n",
    "\n",
    "distancia = {\n",
    "    'sr-es': 137,\n",
    "    'es-sr': 137,\n",
    "    'sr-jp': 70.1,\n",
    "    'jp-sr': 70.1,\n",
    "    'sr-ga': 84.8,\n",
    "    'ga-sr': 84.8,\n",
    "    'es-jp': 200,\n",
    "    'jp-es': 200,\n",
    "    'es-ga': 214,\n",
    "    'ga-es': 214,\n",
    "    'jp-ga': 15,\n",
    "    'ga-jp': 15\n",
    "}\n",
    "\n",
    "def main(distancia):\n",
    "    min_km = 1000\n",
    "    for item in itertools.permutations(['es', 'jp', 'ga']):\n",
    "        total = distancia[f\"sr-{item[0]}\"] + \\\n",
    "                distancia[f\"{item[0]}-{item[1]}\"] + \\\n",
    "                distancia[f\"{item[1]}-{item[2]}\"] + \\\n",
    "                distancia[f\"{item[2]}-sr\"]\n",
    "\n",
    "    if total < min_km:\n",
    "        route = f\"sr-{item[0]}-{item[1]}-{item[2]}-sr\"\n",
    "        min_km = total\n",
    "    print(min_km, route)\n",
    "\n",
    "if __name__ == '__main__':\n",
    "    main(distancia)\n",
    "\n"
   ]
  },
  {
   "cell_type": "markdown",
   "metadata": {},
   "source": [
    "# Segunda parte\n",
    "\n",
    "Resolver el problema agregando heurística para los siguientes destinos:\n",
    "\n",
    "- San Rafael\n",
    "- El Nihuil\n",
    "- El sosneado\n",
    "- Villa Atuel\n",
    "- Jaime Prats\n",
    "- Las Malvinas\n",
    "- Salto de las Rosas\n",
    "- Rama caída\n",
    "- Monte Coman\n",
    "- Gral. Alvear\n",
    "- Rincón del Atuel\n",
    "\n",
    "Responder:\n",
    "\n",
    "- ¿Qué heurística se utilizó? \n",
    "- El script se fija el origen donde esta y mira cual es la ciudad mas cercana que no haya visitado, entonces viaja a dicha ciudad y repite el proceso hasta que recorre todas."
   ]
  },
  {
   "cell_type": "code",
   "execution_count": 16,
   "metadata": {},
   "outputs": [
    {
     "name": "stdout",
     "output_type": "stream",
     "text": [
      "Recorrido:\n",
      "San Rafael => El Nihuil\n",
      "Rama caída => Monte Coman\n",
      "Salto de las Rosas => Rama caída\n",
      "Las Malvinas => Salto de las Rosas\n",
      "Villa Atuel => Jaime Prats\n",
      "Jaime Prats => Las Malvinas\n",
      "General Alvear => Rincón del Atuel\n",
      "Monte Coman => General Alvear\n",
      "El sosneado => Villa Atuel\n",
      "San Rafael => El Nihuil\n",
      "El Nihuil => El sosneado\n",
      "San Rafael => El Nihuil\n",
      "\n",
      "Total de kilometros: 430.3 Kms\n"
     ]
    }
   ],
   "source": [
    "distancias = [\n",
    "    [0, 137, 72.7, 59.1, 70.1, 36.6, 18.9, 8.7, 50.7, 84.8, 37.6],\n",
    "    [72.5, 72.5, 0, 108, 120, 135, 97.4, 84, 69.7, 122, 35],\n",
    "    [137, 0, 108, 184, 200, 162, 148, 134, 186, 214, 99.1],\n",
    "    [54.3, 184, 120, 0, 16.7, 45.2, 35.6, 54.5, 47.1, 31.4, 84.7],\n",
    "    [70.1, 200, 136, 16.9, 0, 60.8, 51.3, 70.2, 41.2, 15, 64.6],\n",
    "    [36, 162, 97.7, 45.6, 60.8, 0, 18.8, 29.7, 57.8, 75.4, 62.6],\n",
    "    [18.7, 148, 84.2, 36, 51.2, 18.8, 0, 18.9, 43, 65.8, 49.1],\n",
    "    [8.7, 134, 69.8, 54.9, 73.5, 29.6, 18.8, 0, 56.4, 84.7, 34.7],\n",
    "    [50.5, 186, 122, 47.2, 41.3, 52.8, 43, 56.3, 0, 48, 86.5],\n",
    "    [84.8, 214, 122, 31.4, 15, 75.4, 65.8, 84.7, 48, 0, 115],\n",
    "    [37.6, 99.1, 35.2, 85.1, 100, 62.5, 49.1, 34.7, 86.6, 115, 0]\n",
    "]\n",
    "\n",
    "sitios = [\"San Rafael\", \"El Nihuil\", \"El sosneado\", \"Villa Atuel\", \"Jaime Prats\", \"Las Malvinas\", \"Salto de las Rosas\", \"Rama caída\", \"Monte Coman\",\"General Alvear\", \"Rincón del Atuel\",]\n",
    "\n",
    "\n",
    "def main():\n",
    "    ruta = [0]\n",
    "    kms_history = [0]\n",
    "    count = 0\n",
    "    for i in range(len(distancias)):\n",
    "        distancias[i][0] = 999999\n",
    "    while True:\n",
    "        minimo = 999999\n",
    "        if count > 10:\n",
    "            break\n",
    "        for column in distancias[ruta[-1]]:\n",
    "            if column < minimo and column != 0:\n",
    "                minimo = column\n",
    "        index = distancias[ruta[-1]].index(minimo)\n",
    "        kms_history.append(minimo)\n",
    "        ruta.append(index)\n",
    "        for i in range(len(distancias)):\n",
    "            distancias[i][index] = 999999\n",
    "        count += 1\n",
    "    ruta.append(0)\n",
    "    \n",
    "    print(\"Recorrido:\")\n",
    "    for i in ruta:\n",
    "        try:\n",
    "            print(f'{sitios[i]} => {sitios[i+1]}')\n",
    "        except:\n",
    "            pass\n",
    "    print(f\"\\nTotal de kilometros: {sum([i for i in kms_history if not i == 999999])} Kms\")\n",
    "\n",
    "\n",
    "if __name__ == '__main__':\n",
    "    main()\n"
   ]
  },
  {
   "cell_type": "code",
   "execution_count": null,
   "metadata": {},
   "outputs": [],
   "source": []
  }
 ],
 "metadata": {
  "kernelspec": {
   "display_name": "Python 3 (ipykernel)",
   "language": "python",
   "name": "python3"
  },
  "language_info": {
   "codemirror_mode": {
    "name": "ipython",
    "version": 3
   },
   "file_extension": ".py",
   "mimetype": "text/x-python",
   "name": "python",
   "nbconvert_exporter": "python",
   "pygments_lexer": "ipython3",
   "version": "3.8.10"
  }
 },
 "nbformat": 4,
 "nbformat_minor": 4
}
