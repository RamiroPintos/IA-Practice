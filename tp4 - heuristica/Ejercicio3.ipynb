{
 "cells": [
  {
   "cell_type": "markdown",
   "metadata": {},
   "source": [
    "# Grilla de colores\n",
    "\n",
    "Se tiene una grilla de cuadrados de 9×9, cada uno comienza pintado aleatoriamente de rojo o azul. \n",
    "\n",
    "<img src=\"grilla.jpg\" width=\"200\">\n",
    "Se quiere pintar algunos cuadrados de manera que si se divide la grilla total en sub-grillas de 3x3 cada una de estas sub-grillas contenga cuadrados del mismo color pero el color de cada sub-grilla sea diferente que el de las subgrillas adyacentes.\n",
    "<img src=\"grilla-solucion-1.jpg\" width=\"200\"><img src=\"grilla-solucion-2.jpg\" width=\"200\" >\n",
    "Resolver el problema de manera que no sea necesario pintar un cuadrado más de una vez y se pinte la cantidad mínima de cuadrados\n",
    "\n",
    "\n"
   ]
  },
  {
   "cell_type": "code",
   "execution_count": 28,
   "metadata": {},
   "outputs": [
    {
     "name": "stdout",
     "output_type": "stream",
     "text": [
      "Se elige la solución 2\n",
      "\n",
      "[[1 1 1 0 0 0 1 1 1]\n",
      " [1 1 1 0 0 0 1 1 1]\n",
      " [1 1 1 0 0 0 1 1 1]\n",
      " [0 0 0 1 1 1 0 0 0]\n",
      " [0 0 0 1 1 1 0 0 0]\n",
      " [0 0 0 1 1 1 0 0 0]\n",
      " [1 1 1 0 0 0 1 1 1]\n",
      " [1 1 1 0 0 0 1 1 1]\n",
      " [1 1 1 0 0 0 1 1 1]]\n",
      "\n",
      "Cantidad Pintadas: 40\n"
     ]
    }
   ],
   "source": [
    "import numpy as np\n",
    "\n",
    "solution1 = np.array([\n",
    "        [0, 0, 0, 1, 1, 1, 0, 0, 0], [0, 0, 0, 1, 1, 1, 0, 0, 0], [0, 0, 0, 1, 1, 1, 0, 0, 0],\n",
    "        [1, 1, 1, 0, 0, 0, 1, 1, 1], [1, 1, 1, 0, 0, 0, 1, 1, 1], [1, 1, 1, 0, 0, 0, 1, 1, 1],\n",
    "        [0, 0, 0, 1, 1, 1, 0, 0, 0], [0, 0, 0, 1, 1, 1, 0, 0, 0], [0, 0, 0, 1, 1, 1, 0, 0, 0],\n",
    "    ])\n",
    "solution2 = np.array([\n",
    "        [1, 1, 1, 0, 0, 0, 1, 1, 1], [1, 1, 1, 0, 0, 0, 1, 1, 1], [1, 1, 1, 0, 0, 0, 1, 1, 1],\n",
    "        [0, 0, 0, 1, 1, 1, 0, 0, 0], [0, 0, 0, 1, 1, 1, 0, 0, 0], [0, 0, 0, 1, 1, 1, 0, 0, 0],\n",
    "        [1, 1, 1, 0, 0, 0, 1, 1, 1], [1, 1, 1, 0, 0, 0, 1, 1, 1], [1, 1, 1, 0, 0, 0, 1, 1, 1],\n",
    "    ])\n",
    "            \n",
    "def Solution(c_s1, c_s2):\n",
    "    if c_s1 < c_s2:\n",
    "        solution = solution1\n",
    "        print(\"Se elige la solución 1\\n\")\n",
    "    else:\n",
    "        solution = solution2\n",
    "        print(\"Se elige la solución 2\\n\")\n",
    "    return solution\n",
    "\n",
    "def pintadas(matrix, painted):\n",
    "    print(matrix)\n",
    "    print(f'\\nCantidad Pintadas: {painted}')\n",
    "    \n",
    "def main(solution1,solution2):\n",
    "    \n",
    "    matrix = np.random.randint(0, 2, (9, 9))\n",
    "    c_s1 = 0\n",
    "    c_s2 = 0\n",
    "    painted = 0\n",
    "    \n",
    "    for x in range(0, matrix.shape[0]):\n",
    "        for y in range(0, matrix.shape[1]):\n",
    "            if matrix[x][y] != solution1[x][y]:\n",
    "                c_s1 += 1\n",
    "            if matrix[x][y] != solution2[x][y]:\n",
    "                c_s2 += 1 \n",
    "                \n",
    "    solution = Solution(c_s1,c_s2)            \n",
    "    \n",
    "    for x in range(0, matrix.shape[0]):\n",
    "        for y in range(0, matrix.shape[1]):\n",
    "            if matrix[x][y] != solution[x][y]:\n",
    "                matrix[x][y] = solution[x][y]\n",
    "                painted += 1\n",
    "        \n",
    "    pintadas(matrix, painted)\n",
    "    \n",
    "\n",
    "if __name__ == '__main__':\n",
    "    main(solution1, solution2)\n",
    "    "
   ]
  },
  {
   "cell_type": "code",
   "execution_count": null,
   "metadata": {},
   "outputs": [],
   "source": []
  },
  {
   "cell_type": "code",
   "execution_count": null,
   "metadata": {},
   "outputs": [],
   "source": []
  }
 ],
 "metadata": {
  "kernelspec": {
   "display_name": "Python 3 (ipykernel)",
   "language": "python",
   "name": "python3"
  },
  "language_info": {
   "codemirror_mode": {
    "name": "ipython",
    "version": 3
   },
   "file_extension": ".py",
   "mimetype": "text/x-python",
   "name": "python",
   "nbconvert_exporter": "python",
   "pygments_lexer": "ipython3",
   "version": "3.8.10"
  }
 },
 "nbformat": 4,
 "nbformat_minor": 4
}
