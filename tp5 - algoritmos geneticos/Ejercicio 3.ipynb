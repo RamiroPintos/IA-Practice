{
 "cells": [
  {
   "cell_type": "markdown",
   "metadata": {},
   "source": [
    "# El problema de la mochila\n",
    "\n",
    "Se tiene una mochila y un conjunto de artículos con diferente peso y valor. Se intenta determinar que artículos se pueden colocar adentro de la mochila de manera que no se sobrepase el límite de peso de la mochila maximizando el valor total. \n",
    "\n",
    "Resolver el problema agregando heurística para los siguientes artículos y un límite de 30kg:\n",
    "\n",
    "<table style=\"font-size:16px\">\n",
    "    <tr>\n",
    "        <th>Item</th><td>Valor</td><td>Peso</td>\n",
    "    </tr>\n",
    "    <tr>\n",
    "        <th>A</th><td>4</td><td>12</td>\n",
    "    </tr>\n",
    "    <tr>\n",
    "        <th>B</th><td>2</td><td>2</td>\n",
    "    </tr>\n",
    "    <tr>\n",
    "        <th>C</th><td>10</td><td>4</td>\n",
    "    </tr>\n",
    "    <tr>\n",
    "        <th>D</th><td>1</td><td>1</td>\n",
    "    </tr>\n",
    "    <tr>\n",
    "        <th>E</th><td>5</td><td>15</td>\n",
    "    </tr>\n",
    "    <tr>\n",
    "        <th>F</th><td>3</td><td>2</td>\n",
    "    </tr>\n",
    "    <tr>\n",
    "        <th>G</th><td>14</td><td>7</td>\n",
    "    </tr>\n",
    "    <tr>\n",
    "        <th>H</th><td>4</td><td>10</td>\n",
    "    </tr>\n",
    "</table>"
   ]
  },
  {
   "cell_type": "markdown",
   "metadata": {},
   "source": [
    "## Codificación\n",
    "\n",
    "- Definir como se codificará el problema\n",
    "\n",
    "#### Maximizar valor: Z = 4A + 2B + 10C + 1D + 5E + 3F + 14G + 4H\n",
    "#### Restricción peso:  12A + 2B + 4C + 1D + 15E + 2F + 7G + 10H  <=  30\n",
    "\n",
    "En este problema tenemos 8 variables, por lo que el cromosoma tendrá 8 genes"
   ]
  },
  {
   "cell_type": "code",
   "execution_count": 1,
   "metadata": {},
   "outputs": [],
   "source": [
    "import numpy as np\n",
    "import random\n",
    "import matplotlib\n",
    "import matplotlib.pyplot as plt\n",
    "from toolz import unique"
   ]
  },
  {
   "cell_type": "markdown",
   "metadata": {},
   "source": [
    "## Adaptación\n",
    "\n",
    "- Definir como se calculará la adaptación de un individuo\n",
    "\n",
    "La función adaptación será  la fórmula del Valor, que se trata de maximizar. A mayor Valor mejor adaptación.\n",
    "- ¿Existen estados que deben ser penalizados?\n",
    "\n",
    "Deberían penalizarse los que no respeten la restricción de no superar los 30 kilos."
   ]
  },
  {
   "cell_type": "code",
   "execution_count": 2,
   "metadata": {},
   "outputs": [],
   "source": [
    "def adaptation_function(population):\n",
    "    fitness = []\n",
    "    i = 0\n",
    "    bests = []\n",
    "    for pop in population:\n",
    "        peso = ((pop[0] * 12) + (pop[1] * 2) + (pop[2] * 4) + (pop[3]) + (pop[4] * 15) + (pop[5] * 2) + (pop[6] * 7) + (pop[7] * 10))\n",
    "        #print(f'peso: {peso}')\n",
    "        if peso <= 30:\n",
    "            fitness.append( ( (pop[0] * 4) + (pop[1] * 2) + (pop[2] * 10) + (pop[3]) + (pop[4] * 5) + (pop[5] * 3) + (pop[6] * 14) + (pop[7] * 4)) )\n",
    "        else:\n",
    "            # si supera el peso, se aplica penalización de \"Sentencia de Muerte\"\n",
    "            # y directamente se establece un fitness de 0 al individuo\n",
    "            fitness.append(0)\n",
    "    for pop in population:\n",
    "        if fitness[i] == max(fitness):\n",
    "            bests.append(pop)\n",
    "        i = i+1\n",
    "    #print(f'lista-fitness {fitness} end-fitness')\n",
    "    return fitness, bests"
   ]
  },
  {
   "cell_type": "markdown",
   "metadata": {},
   "source": [
    "## Selección"
   ]
  },
  {
   "cell_type": "code",
   "execution_count": 3,
   "metadata": {},
   "outputs": [],
   "source": [
    "# Recibe la lista con los entrenamientos de cada hijo y los ordena con numeros enteros ej: [1,2,3,4,5,6] \n",
    "# basandose en el valor que se obtuvo en la adaptacion.\n",
    "def rank(fitness):\n",
    "    array = np.array(fitness)\n",
    "    temp = array.argsort()\n",
    "    return (np.arange(len(array))[temp.argsort()]).tolist()\n",
    "\n",
    "\n",
    "# Calculamos la probabilidad que tiene cada hijo usando \"SELECCION BASADA EN RANKING\".\n",
    "def probability(population, fitness):\n",
    "    probability_list = []\n",
    "    ranking = rank(fitness)\n",
    "    #print(f'ranking list?: {ranking} end-ranking {len(ranking)}')\n",
    "    for i in range(len(population)):\n",
    "        probability_list.append(\n",
    "            ((ranking[i]) / sum(ranking))\n",
    "        )\n",
    "        # acá se puede insertar otra funcion de penalizacion tipo \"Stochastic Ranking\"\n",
    "        # donde reste puntos a la Probabilidad del individuo\n",
    "        # pero cuantos puntos restamos? 0,1 - 0,001 ... debe ser proporcional al valor del resto\n",
    "    return probability_list\n",
    "\n",
    "\n",
    "# Seleccionamos el/los padres de la lista de la poblacion, basandonos en la probabilidad de cada individuo.\n",
    "def select_parents(parents_num, population_len, probability_list):\n",
    "    # population, weights = probability_list, k = parents_num\n",
    "    population_aux = range(population_len)\n",
    "    #print(f'probability list: {probability_list} end-list {len(probability_list)}')\n",
    "    # a random.choice() le pasamos la lista de padres y su probabilidad de ser seleccionados\n",
    "    parent_indexs = np.random.choice(population_aux,size=parents_num, replace=False, p=probability_list)\n",
    "    return [population[i] for i in parent_indexs]\n",
    "\n"
   ]
  },
  {
   "cell_type": "markdown",
   "metadata": {},
   "source": [
    "## Cruza"
   ]
  },
  {
   "cell_type": "code",
   "execution_count": 4,
   "metadata": {},
   "outputs": [],
   "source": [
    "def crossover(parents):\n",
    "    parents = np.array(parents)\n",
    "    # Genero arreglo vacío donde se guardarán los hijos\n",
    "    childrens = np.empty((len(parents),parents.shape[1]))\n",
    "    # Definio el punto de cruce en la mitad de los padre\n",
    "    crossover_point = np.uint8(parents.shape[0]/2)\n",
    "    #print(f'crossover point: {crossover_point} end-cross-point')\n",
    "    for k in range(len(parents)):\n",
    "        # Índice del primer padre para realizar la cruza\n",
    "        parent1_idx = k%parents.shape[0]\n",
    "        # Índice del segundo padre para realizar la cruza\n",
    "        parent2_idx = (k+1)%parents.shape[0]\n",
    "        # Generar el primer hijo con la primer mitad de un padre y la segunda de otro\n",
    "        childrens[k, 0:crossover_point] = parents[parent1_idx, 0:crossover_point]\n",
    "        # Generar el segundo hijo con las partes opuestas\n",
    "        childrens[k, crossover_point:] = parents[parent2_idx, crossover_point:]\n",
    "    #Devolver lista de hijos\n",
    "    return childrens"
   ]
  },
  {
   "cell_type": "markdown",
   "metadata": {},
   "source": [
    "## Mutación"
   ]
  },
  {
   "cell_type": "code",
   "execution_count": 5,
   "metadata": {},
   "outputs": [],
   "source": [
    "def mutation(childrens):\n",
    "    for i, children in enumerate(childrens):\n",
    "        cont = 0\n",
    "        # cada hijo muta 2 veces\n",
    "        for cont in range(4):\n",
    "            random_index = random.choice(range(8)) #elije un numero random entre 0 y 7\n",
    "            if childrens[i][random_index] > 0:\n",
    "                # si es mayor que 0, puede restarle 1 o sumarle 1 o no hacer nada (sumarle 0)\n",
    "                childrens[i][random_index] = (childrens[i][random_index] + random.randrange(-1, 1))\n",
    "            else:\n",
    "                # si el valor del gen es 0, solo puede sumarle 1 o 0\n",
    "                childrens[i][random_index] = (childrens[i][random_index] + random.randrange(0, 1))\n",
    "    return childrens"
   ]
  },
  {
   "cell_type": "markdown",
   "metadata": {},
   "source": [
    "# Algoritmo"
   ]
  },
  {
   "cell_type": "code",
   "execution_count": 30,
   "metadata": {},
   "outputs": [
    {
     "name": "stdout",
     "output_type": "stream",
     "text": [
      "Ultima solucion con mejor adaptacion: [[0.0, 5.0, 4.0, 0.0, 0.0, 0.0, 0.0, 0.0]]\n"
     ]
    }
   ],
   "source": [
    "def create_population():\n",
    "    population = []\n",
    "    amount_population = 100  # la cantidad de iteraciones/alternativas habrá\n",
    "\n",
    "    # acá se determina un rango para las variables, o sea, cuántos items por tipo irán en la mochila\n",
    "    # y como la mochila tiene un espacio finito y pequeño, \n",
    "    # el rango de cada item se ha limitado según su peso\n",
    "    for _ in range(amount_population):\n",
    "        a = random.randrange(0, 2)\n",
    "        b = random.randrange(0, 15)\n",
    "        c = random.randrange(0, 7)\n",
    "        d = random.randrange(0, 30)\n",
    "        e = random.randrange(0, 2)\n",
    "        f = random.randrange(0, 15)\n",
    "        g = random.randrange(0, 4)\n",
    "        h = random.randrange(0, 3)\n",
    "\n",
    "        #peso = ((pop[0] * 12) + (pop[1] * 2) + (pop[2] * 4) + (pop[3] * 1) + (pop[4] * 15) + (pop[5] * 2) + (pop[6] * 7) + (pop[7] * 10))\n",
    "        #peso = ((a * 12) + (b * 2) + (c * 4) + (d * 1) + (e * 15) + (f * 2) + (g * 7) + (h * 10))\n",
    "        #if peso <= 30:\n",
    "        population.append([a, b, c, d, e, f, g, h])\n",
    "        \n",
    "    return population\n",
    "\n",
    "if __name__ == \"__main__\":\n",
    "    \n",
    "    population = create_population()\n",
    "    population_len = len(population)\n",
    "    #print(f'La poblacion es: {population} end-poblacion')\n",
    "    \n",
    "    best_adaptation = list()\n",
    "    best_solution = list()\n",
    "    generation = list()\n",
    "   \n",
    "    cant_generations = 50\n",
    "    # en este for se repite el proceso para cada generación, en este caso son 200 generaciones\n",
    "    for i in range(cant_generations):\n",
    "        fitness, best_sol = adaptation_function(population)\n",
    "        \n",
    "        probability_list = probability(population, fitness)\n",
    "        #print(probability_list)\n",
    "        selected_parents = select_parents(population_len // 2, population_len, probability_list)\n",
    "        #print(selected_parents)\n",
    "        childrens = crossover(selected_parents)\n",
    "        #print(childrens)\n",
    "        childrens = mutation(childrens)\n",
    "        #print(childrens)\n",
    "        selected_parents.extend(childrens.tolist())\n",
    "        new_population = selected_parents\n",
    "        #print(new_population)\n",
    "        population_len = len(new_population)\n",
    "        population = new_population\n",
    "        best_adaptation.append(max(fitness))\n",
    "        generation.append(i)\n",
    "        \n",
    "    final_best_sol = map(list, unique(map(tuple, best_sol)))\n",
    "    print(f'Ultima solucion con mejor adaptacion: {list(final_best_sol)}')"
   ]
  },
  {
   "cell_type": "markdown",
   "metadata": {},
   "source": [
    "## Grafico"
   ]
  },
  {
   "cell_type": "code",
   "execution_count": 31,
   "metadata": {},
   "outputs": [
    {
     "data": {
      "image/png": "[encoded data removed]",
      "text/plain": [
       "<Figure size 432x288 with 1 Axes>"
      ]
     },
     "metadata": {
      "needs_background": "light"
     },
     "output_type": "display_data"
    }
   ],
   "source": [
    "fig, ax = plt.subplots()\n",
    "ax.plot(generation, best_adaptation, 'b')\n",
    "ax.set_ylabel('Fitness')\n",
    "ax.set_xlabel('Generation')\n",
    "plt.show()"
   ]
  },
  {
   "cell_type": "code",
   "execution_count": null,
   "metadata": {},
   "outputs": [],
   "source": []
  }
 ],
 "metadata": {
  "kernelspec": {
   "display_name": "Python 3",
   "language": "python",
   "name": "python3"
  },
  "language_info": {
   "codemirror_mode": {
    "name": "ipython",
    "version": 3
   },
   "file_extension": ".py",
   "mimetype": "text/x-python",
   "name": "python",
   "nbconvert_exporter": "python",
   "pygments_lexer": "ipython3",
   "version": "3.8.5"
  }
 },
 "nbformat": 4,
 "nbformat_minor": 4
}
