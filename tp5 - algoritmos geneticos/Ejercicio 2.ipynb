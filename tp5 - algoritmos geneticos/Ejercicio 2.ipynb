{
 "cells": [
  {
   "cell_type": "markdown",
   "source": [
    "## Problema del viajante\n",
    "\n",
    "Resolver el problema del viajante utilizando algoritmos genéticos. \n",
    "\n",
    "- ¿Es posible aproximarse al resultado?"
   ],
   "metadata": {}
  },
  {
   "cell_type": "markdown",
   "source": [
    "## Codificación\n",
    "\n",
    "- Definir como se codificará el problema"
   ],
   "metadata": {}
  },
  {
   "cell_type": "markdown",
   "source": [
    "- San Rafael X1\n",
    "- El Nihuil X2\n",
    "- El sosneado X3\n",
    "- Villa Atuel X4\n",
    "- Jaime Prats X5\n",
    "- Las Malvinas X6\n",
    "- Salto de las Rosas X7\n",
    "- Rama caída X8\n",
    "- Monte Coman X9\n",
    "- Gral. Alvear X10\n",
    "- Rincón del Atuel X11\n",
    "\n",
    "Ciudades = 11\n",
    "N = 10"
   ],
   "metadata": {}
  },
  {
   "cell_type": "code",
   "execution_count": 33,
   "source": [
    "import numpy as np\n",
    "import random\n",
    "import matplotlib\n",
    "import matplotlib.pyplot as plt\n",
    "import itertools"
   ],
   "outputs": [],
   "metadata": {}
  },
  {
   "cell_type": "markdown",
   "source": [
    "## Adaptación\n",
    "\n",
    "- Definir como se calculará la adaptación de un individuo\n",
    "- ¿Existen estados que deben ser penalizados?\n"
   ],
   "metadata": {}
  },
  {
   "cell_type": "code",
   "execution_count": 34,
   "source": [
    "kms = [\n",
    "    [0, 72.7, 137, 59.1, 70.1, 36.6, 18.9, 8.7, 50.7, 84.8, 37.6],\n",
    "    [72.7, 0, 107.8, 108, 120, 135, 97.4, 84, 69.7, 122, 35],\n",
    "    [137, 108, 0, 184, 200, 162, 148, 134, 186, 214, 99.1],\n",
    "    [54.3, 120, 184, 0, 16.7, 45.2, 35.6, 54.5, 47.1, 31.4, 84.7], \n",
    "    [70.1, 136, 200, 16.9, 0, 60.8, 51.3, 70.2, 41.2, 15, 64.6], \n",
    "    [36, 97.7, 162, 45.6, 60.8, 0, 18.8, 29.7, 57.8, 75.4, 62.6], \n",
    "    [18.7, 84.2, 148, 36, 51.2, 18.8, 0, 18.9, 43, 65.8, 49.1], \n",
    "    [8.7, 69.8, 134, 54.9, 73.5, 29.6, 18.8, 0, 56.4, 84.7, 34.7], \n",
    "    [50.5, 122, 186, 47.2, 41.3, 52.8, 43, 56.3, 0, 48, 86.5], \n",
    "    [84.8, 122, 214, 31.4, 15, 75.4, 65.8, 84.7, 48, 0, 115], \n",
    "    [37.6, 35.2, 99.1, 85.1, 100, 62.5, 49.1, 34.7, 86.6, 115, 0]\n",
    "]\n",
    "\n",
    "cities = [\n",
    "    \"San Rafael\",\n",
    "    \"El Nihuil\",\n",
    "    \"El sosneado\",\n",
    "    \"Villa Atuel\",\n",
    "    \"Jaime Prats\",\n",
    "    \"Las Malvinas\",\n",
    "    \"Salto de las Rosas\",\n",
    "    \"Rama caída\",\n",
    "    \"Monte Coman\",\n",
    "    \"General Alvear\",\n",
    "    \"Rincón del Atuel\"\n",
    "]\n"
   ],
   "outputs": [],
   "metadata": {}
  },
  {
   "cell_type": "code",
   "execution_count": 35,
   "source": [
    "def adaptation_function(population):\n",
    "    fitness = []\n",
    "    for pop in population:\n",
    "        summ = 0\n",
    "        summ += kms[0][cities.index(pop[0])] # Agregamos San Rafael a la primer ciudad\n",
    "        for v, w in zip(pop[:-1],pop[1:]):\n",
    "            summ += kms[cities.index(v)][cities.index(w)]\n",
    "        summ += kms[0][cities.index(pop[-1])] # Agregamos la ultima ciudad a San Rafael\n",
    "        fitness.append(-summ)\n",
    "        \n",
    "    return fitness\n"
   ],
   "outputs": [],
   "metadata": {}
  },
  {
   "cell_type": "markdown",
   "source": [
    "## Selección por torneo"
   ],
   "metadata": {}
  },
  {
   "cell_type": "code",
   "execution_count": 36,
   "source": [
    "from copy import deepcopy\n",
    "\n",
    "def tournament(fitness, population):\n",
    "    parents = []\n",
    "    fitness_copy = deepcopy(fitness)\n",
    "    fitness_aux = deepcopy(fitness)\n",
    "    \n",
    "    while len(fitness_aux) > 0: \n",
    "        selection1,selection2 = np.random.choice(fitness_aux,size = 2, replace = False) # np.random.choice\n",
    " \n",
    "            \n",
    "        if selection1 > selection2:\n",
    "            parents.append(population[fitness_copy.index(selection1)])\n",
    "            fitness_aux.remove(selection1)\n",
    "            fitness_aux.remove(selection2)\n",
    "\n",
    "        elif selection1 < selection2:\n",
    "            parents.append(population[fitness_copy.index(selection2)])\n",
    "            fitness_aux.remove(selection1)\n",
    "            fitness_aux.remove(selection2)\n",
    "        else:\n",
    "            random_selection = random.choice([selection1, selection2]) # elegimos uno al azar en caso de que sean iguales\n",
    "            parents.append(population[fitness_copy.index(random_selection)])\n",
    "            fitness_aux.remove(selection1)\n",
    "            fitness_aux.remove(selection2)\n",
    "\n",
    "    return parents\n",
    "\n",
    "\n"
   ],
   "outputs": [],
   "metadata": {}
  },
  {
   "cell_type": "markdown",
   "source": [
    "## Cruza"
   ],
   "metadata": {}
  },
  {
   "cell_type": "code",
   "execution_count": 37,
   "source": [
    "def crosses(parents):\n",
    "    childs = list()\n",
    "    merge = list(zip(parents,parents[1:]))[::2]\n",
    "    \n",
    "    split = np.random.choice(10 - 1, random.randint(1, 9) - 1, replace=False) + 1\n",
    "    split.sort()\n",
    "    \n",
    "    for parents1, parents2 in merge:\n",
    "        child_one, child_two = list(), list()\n",
    "        parents_one, parents_two = np.split(parents1, split), np.split(parents2, split)\n",
    "        parents_one_size = len(parents_one)\n",
    "        add_parents = False\n",
    "        for num in range(parents_one_size):\n",
    "            if add_parents:\n",
    "                child_one.append(parents_two[num])\n",
    "                child_two.append(parents_one[num])\n",
    "                add_parents = False\n",
    "            else:\n",
    "                child_one.append(parents_one[num])\n",
    "                child_two.append(parents_two[num])\n",
    "                add_parents = True\n",
    "        \n",
    "    \n",
    "        childs.append(list(itertools.chain.from_iterable(child_one)))\n",
    "        childs.append(list(itertools.chain.from_iterable(child_two)))\n",
    "    return childs\n"
   ],
   "outputs": [],
   "metadata": {}
  },
  {
   "cell_type": "markdown",
   "source": [
    "## Mutación"
   ],
   "metadata": {}
  },
  {
   "cell_type": "markdown",
   "source": [
    "#### Aplicamos la mutación de bit"
   ],
   "metadata": {}
  },
  {
   "cell_type": "code",
   "execution_count": 38,
   "source": [
    "def crosses(parents):\n",
    "    childs = list()\n",
    "    merge = list(zip(parents,parents[1:]))[::2]\n",
    "    \n",
    "    split = np.random.choice(10 - 1, random.randint(1, 9) - 1, replace=False) + 1\n",
    "    split.sort()\n",
    "    \n",
    "    for parents1, parents2 in merge:\n",
    "        child_one, child_two = list(), list()\n",
    "        parents_one, parents_two = np.split(parents1, split), np.split(parents2, split)\n",
    "        parents_one_size = len(parents_one)\n",
    "        add_parents = False\n",
    "        for num in range(parents_one_size):\n",
    "            if add_parents:\n",
    "                child_one.append(parents_two[num])\n",
    "                child_two.append(parents_one[num])\n",
    "                add_parents = False\n",
    "            else:\n",
    "                child_one.append(parents_one[num])\n",
    "                child_two.append(parents_two[num])\n",
    "                add_parents = True\n",
    "        \n",
    "    \n",
    "        childs.append(list(itertools.chain.from_iterable(child_one)))\n",
    "        childs.append(list(itertools.chain.from_iterable(child_two)))\n",
    "    return childs\n",
    "\n"
   ],
   "outputs": [],
   "metadata": {
    "scrolled": true
   }
  },
  {
   "cell_type": "markdown",
   "source": [
    "# Algoritmo"
   ],
   "metadata": {}
  },
  {
   "cell_type": "code",
   "execution_count": 39,
   "source": [
    "def create_population(size_pop):\n",
    "    cities_gen = [\n",
    "    \"El Nihuil\",\n",
    "    \"El sosneado\",\n",
    "    \"Villa Atuel\",\n",
    "    \"Jaime Prats\",\n",
    "    \"Las Malvinas\",\n",
    "    \"Salto de las Rosas\",\n",
    "    \"Rama caída\",\n",
    "    \"Monte Coman\",\n",
    "    \"General Alvear\",\n",
    "    \"Rincón del Atuel\"\n",
    "    ]\n",
    "    population = []\n",
    "    for i in range(size_pop):\n",
    "        population.append(list(np.random.choice(cities_gen,replace=False,size=10)))\n",
    "    return population\n",
    "if __name__ == \"__main__\":\n",
    "    population = create_population(60)\n",
    "    best_adaptation = []\n",
    "    generation = []\n",
    "    for i in range(100):\n",
    "        fitness = adaptation_function(population)\n",
    "        best_adaptation.append(max(fitness))\n",
    "        generation.append(i)\n",
    "        selected_parents = tournament(fitness, population)\n",
    "        childrens = crosses(selected_parents)\n",
    "        childrens = mutation(childrens)\n",
    "        selected_parents.extend(childrens)\n",
    "        population = selected_parents\n",
    "        \n"
   ],
   "outputs": [],
   "metadata": {}
  },
  {
   "cell_type": "markdown",
   "source": [
    "# Gráfico"
   ],
   "metadata": {}
  },
  {
   "cell_type": "code",
   "execution_count": 40,
   "source": [
    "fig, ax = plt.subplots()\n",
    "ax.plot(generation, best_adaptation, 'b')\n",
    "ax.set_ylabel('Fitness')\n",
    "ax.set_xlabel('Generation')\n",
    "plt.show()"
   ],
   "outputs": [
    {
     "output_type": "display_data",
     "data": {
      "image/png": "[encoded data removed]",
      "text/plain": [
       "<Figure size 432x288 with 1 Axes>"
      ]
     },
     "metadata": {
      "needs_background": "light"
     }
    }
   ],
   "metadata": {}
  },
  {
   "cell_type": "markdown",
   "source": [
    "# ¿Es posible aproximarse al resultado?\n",
    "#### No es posible acercarse al resultado tal y como está resuelto el ejercicio debido a que no existe variabilidad en la población que se va generando. Esto nos da una falsa percepción de mejora del algoritmo, dado que se obtienen valores de adaptabilidad iguales en las primeras iteraciones."
   ],
   "metadata": {}
  },
  {
   "cell_type": "code",
   "execution_count": null,
   "source": [],
   "outputs": [],
   "metadata": {}
  }
 ],
 "metadata": {
  "kernelspec": {
   "name": "python3",
   "display_name": "Python 3.8.8 64-bit ('anaconda-Inteligencia-artificial': virtualenv)"
  },
  "language_info": {
   "codemirror_mode": {
    "name": "ipython",
    "version": 3
   },
   "file_extension": ".py",
   "mimetype": "text/x-python",
   "name": "python",
   "nbconvert_exporter": "python",
   "pygments_lexer": "ipython3",
   "version": "3.8.8"
  },
  "interpreter": {
   "hash": "44f860fe3bf7fea06c63ae3da225165566111df11ef28f98112a45f584d0960c"
  }
 },
 "nbformat": 4,
 "nbformat_minor": 4
}