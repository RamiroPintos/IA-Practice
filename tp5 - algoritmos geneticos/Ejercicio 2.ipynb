{
 "cells": [
  {
   "cell_type": "markdown",
   "source": [
    "## Problema del viajante\n",
    "\n",
    "Resolver el problema del viajante utilizando algoritmos genéticos. \n",
    "\n",
    "- ¿Es posible aproximarse al resultado?"
   ],
   "metadata": {}
  },
  {
   "cell_type": "markdown",
   "source": [
    "## Codificación\n",
    "\n",
    "- Definir como se codificará el problema"
   ],
   "metadata": {}
  },
  {
   "cell_type": "markdown",
   "source": [
    "- San Rafael X1\n",
    "- El Nihuil X2\n",
    "- El sosneado X3\n",
    "- Villa Atuel X4\n",
    "- Jaime Prats X5\n",
    "- Las Malvinas X6\n",
    "- Salto de las Rosas X7\n",
    "- Rama caída X8\n",
    "- Monte Coman X9\n",
    "- Gral. Alvear X10\n",
    "- Rincón del Atuel X11\n",
    "\n",
    "Ciudades = 11\n",
    "N = 10"
   ],
   "metadata": {}
  },
  {
   "cell_type": "code",
   "execution_count": 307,
   "source": [
    "import numpy as np\n",
    "import random\n",
    "import matplotlib\n",
    "import matplotlib.pyplot as plt\n",
    "import itertools\n",
    "from copy import deepcopy\n"
   ],
   "outputs": [],
   "metadata": {}
  },
  {
   "cell_type": "markdown",
   "source": [
    "## Adaptación\n",
    "\n",
    "- Definir como se calculará la adaptación de un individuo\n",
    "- ¿Existen estados que deben ser penaliza"
   ],
   "metadata": {}
  },
  {
   "cell_type": "code",
   "execution_count": 308,
   "source": [
    "kms = [\n",
    "    [0, 72.7, 137, 59.1, 70.1, 36.6, 18.9, 8.7, 50.7, 84.8, 37.6],\n",
    "    [72.7, 0, 107.8, 108, 120, 135, 97.4, 84, 69.7, 122, 35],\n",
    "    [137, 108, 0, 184, 200, 162, 148, 134, 186, 214, 99.1],\n",
    "    [54.3, 120, 184, 0, 16.7, 45.2, 35.6, 54.5, 47.1, 31.4, 84.7], \n",
    "    [70.1, 136, 200, 16.9, 0, 60.8, 51.3, 70.2, 41.2, 15, 64.6], \n",
    "    [36, 97.7, 162, 45.6, 60.8, 0, 18.8, 29.7, 57.8, 75.4, 62.6], \n",
    "    [18.7, 84.2, 148, 36, 51.2, 18.8, 0, 18.9, 43, 65.8, 49.1], \n",
    "    [8.7, 69.8, 134, 54.9, 73.5, 29.6, 18.8, 0, 56.4, 84.7, 34.7], \n",
    "    [50.5, 122, 186, 47.2, 41.3, 52.8, 43, 56.3, 0, 48, 86.5], \n",
    "    [84.8, 122, 214, 31.4, 15, 75.4, 65.8, 84.7, 48, 0, 115], \n",
    "    [37.6, 35.2, 99.1, 85.1, 100, 62.5, 49.1, 34.7, 86.6, 115, 0]\n",
    "]\n",
    "\n",
    "cities = [\n",
    "    \"San Rafael\",\n",
    "    \"El Nihuil\",\n",
    "    \"El sosneado\",\n",
    "    \"Villa Atuel\",\n",
    "    \"Jaime Prats\",\n",
    "    \"Las Malvinas\",\n",
    "    \"Salto de las Rosas\",\n",
    "    \"Rama caída\",\n",
    "    \"Monte Coman\",\n",
    "    \"General Alvear\",\n",
    "    \"Rincón del Atuel\"\n",
    "]\n",
    "\n",
    "new_cities = [\n",
    "    \"El Nihuil\",\n",
    "    \"El sosneado\",\n",
    "    \"Villa Atuel\",\n",
    "    \"Jaime Prats\",\n",
    "    \"Las Malvinas\",\n",
    "    \"Salto de las Rosas\",\n",
    "    \"Rama caída\",\n",
    "    \"Monte Coman\",\n",
    "    \"General Alvear\",\n",
    "    \"Rincón del Atuel\"\n",
    "]"
   ],
   "outputs": [],
   "metadata": {}
  },
  {
   "cell_type": "code",
   "execution_count": 309,
   "source": [
    "def adaptation_function(population):\n",
    "    fitness = []\n",
    "    for pop in population:\n",
    "        summ = 0\n",
    "        summ += kms[0][cities.index(pop[0])] # Agregamos San Rafael a la primer ciudad\n",
    "        for v, w in zip(pop[:-1],pop[1:]):\n",
    "            summ += kms[cities.index(v)][cities.index(w)]\n",
    "        summ += kms[0][cities.index(pop[-1])] # Agregamos la ultima ciudad a San Rafael\n",
    "        fitness.append(-summ)\n",
    "    return fitness"
   ],
   "outputs": [],
   "metadata": {}
  },
  {
   "cell_type": "code",
   "execution_count": 310,
   "source": [
    "def create_new_population(size_pop):\n",
    "    population = []\n",
    "    citiess = deepcopy(new_cities)\n",
    "    for i in range(size_pop):\n",
    "        population.append(list(np.random.choice(citiess,replace=False,size=10)))\n",
    "    return population"
   ],
   "outputs": [],
   "metadata": {}
  },
  {
   "cell_type": "markdown",
   "source": [
    "## Selección por torneo"
   ],
   "metadata": {}
  },
  {
   "cell_type": "code",
   "execution_count": 311,
   "source": [
    "def tournament(fitness, population):\n",
    "    parents = list()\n",
    "    fitness_copy, fitness_test = fitness, fitness\n",
    "    \n",
    "    while True:\n",
    "        if not len(fitness_test) >= 2:\n",
    "            break\n",
    "        selection1,selection2 = np.random.choice(fitness_test, size = 2, replace = False)\n",
    "\n",
    "        if selection1 > selection2:\n",
    "            parents.append(population[fitness_copy.index(selection1)])\n",
    "        elif selection1 < selection2:\n",
    "            parents.append(population[fitness_copy.index(selection2)])\n",
    "        else:\n",
    "            parents.append(population[fitness_copy.index(random.choice([selection1, selection2]))])\n",
    "\n",
    "        fitness_test.remove(selection1)\n",
    "        fitness_test.remove(selection2)\n",
    "    return parents"
   ],
   "outputs": [],
   "metadata": {}
  },
  {
   "cell_type": "markdown",
   "source": [
    "## Cruza "
   ],
   "metadata": {}
  },
  {
   "cell_type": "code",
   "execution_count": 312,
   "source": [
    "def crosses_condition(parents_one, parents_two,child_one,child_two, add_parents, num):\n",
    "    if add_parents:\n",
    "        child_one.append(parents_two[num])\n",
    "        child_two.append(parents_one[num])\n",
    "        add_parents = False\n",
    "    else:\n",
    "        child_one.append(parents_one[num])\n",
    "        child_two.append(parents_two[num])\n",
    "        add_parents = True\n",
    "    return child_one, child_two, add_parents\n",
    "\n",
    "def childs_list(child_one, child_two, childs):\n",
    "    childs.append(list(itertools.chain.from_iterable(child_one)))\n",
    "    childs.append(list(itertools.chain.from_iterable(child_two)))\n",
    "    return childs\n",
    "\n",
    "def crosses(parents):\n",
    "    childs = []\n",
    "    merge = list(zip(parents,parents[1:]))[::2]\n",
    "    split = np.random.choice(10 - 1, random.randint(1, 9) - 1, replace=False) + 1\n",
    "    split.sort()\n",
    "    for parents1, parents2 in merge:\n",
    "        child_one = [] \n",
    "        child_two = []\n",
    "        parents_one, parents_two = np.split(parents1, split), np.split(parents2, split)\n",
    "        parents_one_size = len(parents_one)\n",
    "        add_parents = False\n",
    "        for num in range(parents_one_size):\n",
    "            child_one, child_two, add_parents = crosses_condition(parents_one, parents_two,child_one,child_two, add_parents, num)\n",
    "        childs_list(child_one, child_two, childs)\n",
    "    return childs\n",
    "    "
   ],
   "outputs": [],
   "metadata": {}
  },
  {
   "cell_type": "markdown",
   "source": [
    "## Mutacion"
   ],
   "metadata": {}
  },
  {
   "cell_type": "code",
   "execution_count": 313,
   "source": [
    "def num_random(end):\n",
    "    valor = random.randint(1,end)\n",
    "    return valor\n",
    "\n",
    "def intercambio(valor1, valor2, lista):\n",
    "    dato1 = lista[valor1]\n",
    "    dato2 = lista[valor2]\n",
    "    lista[valor1] = dato2\n",
    "    lista[valor2] = dato1\n",
    "    return lista\n",
    "\n",
    "\n",
    "def mutation(parent): #mutacion dos genes\n",
    "    j = 0\n",
    "    for i in parent:\n",
    "        lista = parent[j]\n",
    "        aux1=num_random(len(lista)-1)\n",
    "        aux2=num_random(len(lista)-1)\n",
    "        while aux1 == aux2:\n",
    "            aux1=num_random(len(lista)-1)\n",
    "            aux2=num_random(len(lista)-1)\n",
    "        lista = intercambio(aux1,aux2,lista)\n",
    "        parent[j] = lista\n",
    "        j = j+1\n",
    "\n",
    "    return parent"
   ],
   "outputs": [],
   "metadata": {}
  },
  {
   "cell_type": "markdown",
   "source": [
    "## ALGORITMO"
   ],
   "metadata": {}
  },
  {
   "cell_type": "code",
   "execution_count": 314,
   "source": [
    "if __name__ == \"__main__\":\n",
    "    population = create_new_population(60)\n",
    "    generation = []\n",
    "    best_adaptation = []\n",
    "    for i in range(100):\n",
    "        fitness = adaptation_function(population)\n",
    "        best_adaptation.append(max(fitness)) #grafico\n",
    "        generation.append(i) #grafico\n",
    "        selection = tournament(fitness, population) #seleccion por torneo\n",
    "        childrens = crosses(selection)  \n",
    "        childrens = mutation(childrens)\n",
    "        selection.extend(childrens)\n",
    "        population = selection\n"
   ],
   "outputs": [],
   "metadata": {}
  },
  {
   "cell_type": "markdown",
   "source": [
    "GRAFICO"
   ],
   "metadata": {}
  },
  {
   "cell_type": "code",
   "execution_count": 315,
   "source": [
    "fig, ax = plt.subplots()\n",
    "ax.plot(generation, best_adaptation, 'b')\n",
    "ax.set_ylabel('Fitness')\n",
    "ax.set_xlabel('Generation')\n",
    "plt.show()"
   ],
   "outputs": [
    {
     "output_type": "display_data",
     "data": {
      "image/png": "[encoded data removed]",
      "text/plain": [
       "<Figure size 432x288 with 1 Axes>"
      ]
     },
     "metadata": {
      "needs_background": "light"
     }
    }
   ],
   "metadata": {}
  },
  {
   "cell_type": "markdown",
   "source": [
    "# ¿Es posible aproximarse al resultado?\n",
    "#### No es posible, ya que al acercarse al resultado no existe variabilidad en la población que se va generando obteniendo valores de adaptabilidad iguales en las primeras iteraciones."
   ],
   "metadata": {}
  }
 ],
 "metadata": {
  "interpreter": {
   "hash": "44f860fe3bf7fea06c63ae3da225165566111df11ef28f98112a45f584d0960c"
  },
  "kernelspec": {
   "name": "python3",
   "display_name": "Python 3.8.8 64-bit ('anaconda-Inteligencia-artificial': virtualenv)"
  },
  "language_info": {
   "codemirror_mode": {
    "name": "ipython",
    "version": 3
   },
   "file_extension": ".py",
   "mimetype": "text/x-python",
   "name": "python",
   "nbconvert_exporter": "python",
   "pygments_lexer": "ipython3",
   "version": "3.8.8"
  }
 },
 "nbformat": 4,
 "nbformat_minor": 2
}